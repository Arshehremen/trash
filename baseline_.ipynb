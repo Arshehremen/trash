{
 "cells": [
  {
   "cell_type": "code",
   "execution_count": 1,
   "id": "0174a131-88ce-4e0a-96ef-17cced1e81b4",
   "metadata": {},
   "outputs": [],
   "source": [
    "# !pip install datasets\n",
    "# !pip install -U scikit-learn"
   ]
  },
  {
   "cell_type": "code",
   "execution_count": 2,
   "id": "f4666631-f363-4c7a-b2fc-929db91d6f4c",
   "metadata": {
    "scrolled": true
   },
   "outputs": [],
   "source": [
    "# !pip install transformers[torch]"
   ]
  },
  {
   "cell_type": "code",
   "execution_count": 3,
   "id": "51fc8290fd9a4abb",
   "metadata": {
    "ExecuteTime": {
     "end_time": "2024-05-17T16:07:19.154730Z",
     "start_time": "2024-05-17T16:07:16.336087Z"
    }
   },
   "outputs": [
    {
     "name": "stderr",
     "output_type": "stream",
     "text": [
      "/home/arshehremen/miniconda3/envs/dev/lib/python3.11/site-packages/tqdm/auto.py:21: TqdmWarning: IProgress not found. Please update jupyter and ipywidgets. See https://ipywidgets.readthedocs.io/en/stable/user_install.html\n",
      "  from .autonotebook import tqdm as notebook_tqdm\n"
     ]
    }
   ],
   "source": [
    "import torch\n",
    "import pandas as pd\n",
    "from transformers import BertTokenizer, BertForSequenceClassification, Trainer, TrainingArguments\n",
    "from datasets import Dataset\n",
    "from sklearn.metrics import f1_score\n",
    "import transformers\n",
    "import random"
   ]
  },
  {
   "cell_type": "code",
   "execution_count": 4,
   "id": "852132a0-88e6-4dd5-8747-d474e30f683b",
   "metadata": {},
   "outputs": [],
   "source": [
    "from tqdm import tqdm"
   ]
  },
  {
   "cell_type": "code",
   "execution_count": 5,
   "id": "dde828fd-f9dc-40ec-8547-41fcd3b26ca4",
   "metadata": {},
   "outputs": [
    {
     "data": {
      "text/plain": [
       "<torch._C.Generator at 0x7d23c40b1ef0>"
      ]
     },
     "execution_count": 5,
     "metadata": {},
     "output_type": "execute_result"
    }
   ],
   "source": [
    "random.seed(13)\n",
    "torch.manual_seed(13)"
   ]
  },
  {
   "cell_type": "code",
   "execution_count": 6,
   "id": "c1abeb65-7489-42cc-8d99-3a68acf1b188",
   "metadata": {},
   "outputs": [
    {
     "data": {
      "text/plain": [
       "device(type='cuda', index=0)"
      ]
     },
     "execution_count": 6,
     "metadata": {},
     "output_type": "execute_result"
    }
   ],
   "source": [
    "device = torch.device('cuda:0' if torch.cuda.is_available() else 'cpu')\n",
    "device"
   ]
  },
  {
   "cell_type": "code",
   "execution_count": 7,
   "id": "a71705c3-c98a-491d-bafe-9803f1bb1804",
   "metadata": {},
   "outputs": [
    {
     "data": {
      "text/plain": [
       "True"
      ]
     },
     "execution_count": 7,
     "metadata": {},
     "output_type": "execute_result"
    }
   ],
   "source": [
    "torch.cuda.is_available()"
   ]
  },
  {
   "cell_type": "code",
   "execution_count": 8,
   "id": "a2a22442-53d0-47cf-a456-1e18f5292578",
   "metadata": {
    "ExecuteTime": {
     "end_time": "2024-05-17T15:53:38.091237Z",
     "start_time": "2024-05-17T15:53:38.061261Z"
    }
   },
   "outputs": [],
   "source": [
    "train_df = pd.read_csv('train.csv')"
   ]
  },
  {
   "cell_type": "code",
   "execution_count": 9,
   "id": "11ebfda3-a603-413d-afe8-c8d8b0118799",
   "metadata": {},
   "outputs": [
    {
     "data": {
      "text/html": [
       "<div>\n",
       "<style scoped>\n",
       "    .dataframe tbody tr th:only-of-type {\n",
       "        vertical-align: middle;\n",
       "    }\n",
       "\n",
       "    .dataframe tbody tr th {\n",
       "        vertical-align: top;\n",
       "    }\n",
       "\n",
       "    .dataframe thead th {\n",
       "        text-align: right;\n",
       "    }\n",
       "</style>\n",
       "<table border=\"1\" class=\"dataframe\">\n",
       "  <thead>\n",
       "    <tr style=\"text-align: right;\">\n",
       "      <th></th>\n",
       "      <th>line_id</th>\n",
       "      <th>summary</th>\n",
       "      <th>question</th>\n",
       "      <th>answer</th>\n",
       "      <th>is_hallucination</th>\n",
       "    </tr>\n",
       "  </thead>\n",
       "  <tbody>\n",
       "    <tr>\n",
       "      <th>0</th>\n",
       "      <td>0</td>\n",
       "      <td>Херманус Питер (Дик) Логгере (нидерл. Hermanus...</td>\n",
       "      <td>В каком городе проходил чемпионат мира по хокк...</td>\n",
       "      <td>В Хилверсюме.</td>\n",
       "      <td>1</td>\n",
       "    </tr>\n",
       "    <tr>\n",
       "      <th>1</th>\n",
       "      <td>1</td>\n",
       "      <td>Ходуткинские горячие источники (Худутские горя...</td>\n",
       "      <td>Как называется район в который входят источники?</td>\n",
       "      <td>Елизовским районом</td>\n",
       "      <td>0</td>\n",
       "    </tr>\n",
       "    <tr>\n",
       "      <th>2</th>\n",
       "      <td>2</td>\n",
       "      <td>Чёрная вдова (лат. Latrodectus mactans) — вид ...</td>\n",
       "      <td>Для кого опасны пауки-бокоходы?</td>\n",
       "      <td>Для рыб.</td>\n",
       "      <td>1</td>\n",
       "    </tr>\n",
       "    <tr>\n",
       "      <th>3</th>\n",
       "      <td>3</td>\n",
       "      <td>Рысь — река в России, протекает по территориям...</td>\n",
       "      <td>Какова длина реки Рысь?</td>\n",
       "      <td>5 км.</td>\n",
       "      <td>1</td>\n",
       "    </tr>\n",
       "    <tr>\n",
       "      <th>4</th>\n",
       "      <td>4</td>\n",
       "      <td>И́се (яп. 伊勢市), ранее Удзиямада — город в Япон...</td>\n",
       "      <td>Что такое Исе?</td>\n",
       "      <td>Исе — это небольшой город в Японии, который не...</td>\n",
       "      <td>1</td>\n",
       "    </tr>\n",
       "    <tr>\n",
       "      <th>...</th>\n",
       "      <td>...</td>\n",
       "      <td>...</td>\n",
       "      <td>...</td>\n",
       "      <td>...</td>\n",
       "      <td>...</td>\n",
       "    </tr>\n",
       "    <tr>\n",
       "      <th>1045</th>\n",
       "      <td>1045</td>\n",
       "      <td>Восемь незарегистрированных правителей (яп. 欠史...</td>\n",
       "      <td>Что связывают с императорским домом?</td>\n",
       "      <td>ни одна легенда не связывает их с Японией</td>\n",
       "      <td>0</td>\n",
       "    </tr>\n",
       "    <tr>\n",
       "      <th>1046</th>\n",
       "      <td>1046</td>\n",
       "      <td>«Гастингс» (англ. Hastings) — название военной...</td>\n",
       "      <td>Какой род войск проводил военную операцию под ...</td>\n",
       "      <td>Танковые войска.</td>\n",
       "      <td>1</td>\n",
       "    </tr>\n",
       "    <tr>\n",
       "      <th>1047</th>\n",
       "      <td>1047</td>\n",
       "      <td>Bacillus cereus (лат.) — вид грамположительных...</td>\n",
       "      <td>У кого вызывает токсикоз?</td>\n",
       "      <td>У растений.</td>\n",
       "      <td>1</td>\n",
       "    </tr>\n",
       "    <tr>\n",
       "      <th>1048</th>\n",
       "      <td>1048</td>\n",
       "      <td>Стеклова́та — волокнистый минеральный теплоизо...</td>\n",
       "      <td>Какой способностью обладает стекловата?</td>\n",
       "      <td>Стекловата обладает способностью проводить эле...</td>\n",
       "      <td>1</td>\n",
       "    </tr>\n",
       "    <tr>\n",
       "      <th>1049</th>\n",
       "      <td>1049</td>\n",
       "      <td>Земляные работы, переработка грунта — работы, ...</td>\n",
       "      <td>Что такое рыхлый слой, располагающийся между п...</td>\n",
       "      <td>Грунт</td>\n",
       "      <td>0</td>\n",
       "    </tr>\n",
       "  </tbody>\n",
       "</table>\n",
       "<p>1050 rows × 5 columns</p>\n",
       "</div>"
      ],
      "text/plain": [
       "      line_id                                            summary  \\\n",
       "0           0  Херманус Питер (Дик) Логгере (нидерл. Hermanus...   \n",
       "1           1  Ходуткинские горячие источники (Худутские горя...   \n",
       "2           2  Чёрная вдова (лат. Latrodectus mactans) — вид ...   \n",
       "3           3  Рысь — река в России, протекает по территориям...   \n",
       "4           4  И́се (яп. 伊勢市), ранее Удзиямада — город в Япон...   \n",
       "...       ...                                                ...   \n",
       "1045     1045  Восемь незарегистрированных правителей (яп. 欠史...   \n",
       "1046     1046  «Гастингс» (англ. Hastings) — название военной...   \n",
       "1047     1047  Bacillus cereus (лат.) — вид грамположительных...   \n",
       "1048     1048  Стеклова́та — волокнистый минеральный теплоизо...   \n",
       "1049     1049  Земляные работы, переработка грунта — работы, ...   \n",
       "\n",
       "                                               question  \\\n",
       "0     В каком городе проходил чемпионат мира по хокк...   \n",
       "1      Как называется район в который входят источники?   \n",
       "2                       Для кого опасны пауки-бокоходы?   \n",
       "3                               Какова длина реки Рысь?   \n",
       "4                                        Что такое Исе?   \n",
       "...                                                 ...   \n",
       "1045               Что связывают с императорским домом?   \n",
       "1046  Какой род войск проводил военную операцию под ...   \n",
       "1047                          У кого вызывает токсикоз?   \n",
       "1048            Какой способностью обладает стекловата?   \n",
       "1049  Что такое рыхлый слой, располагающийся между п...   \n",
       "\n",
       "                                                 answer  is_hallucination  \n",
       "0                                         В Хилверсюме.                 1  \n",
       "1                                    Елизовским районом                 0  \n",
       "2                                              Для рыб.                 1  \n",
       "3                                                 5 км.                 1  \n",
       "4     Исе — это небольшой город в Японии, который не...                 1  \n",
       "...                                                 ...               ...  \n",
       "1045          ни одна легенда не связывает их с Японией                 0  \n",
       "1046                                   Танковые войска.                 1  \n",
       "1047                                        У растений.                 1  \n",
       "1048  Стекловата обладает способностью проводить эле...                 1  \n",
       "1049                                              Грунт                 0  \n",
       "\n",
       "[1050 rows x 5 columns]"
      ]
     },
     "execution_count": 9,
     "metadata": {},
     "output_type": "execute_result"
    }
   ],
   "source": [
    "train_df"
   ]
  },
  {
   "cell_type": "code",
   "execution_count": 10,
   "id": "74454aba-2c5e-4ca1-8360-72763d9e2f21",
   "metadata": {},
   "outputs": [],
   "source": [
    "train_df['text'] = \"[CLS] \" + train_df['summary'] + \" \" + train_df['question'] + \" [SEP] \" + train_df['answer']"
   ]
  },
  {
   "cell_type": "code",
   "execution_count": 11,
   "id": "291c1ce1-5a88-4d24-a0f4-b3db1771ec61",
   "metadata": {},
   "outputs": [
    {
     "name": "stderr",
     "output_type": "stream",
     "text": [
      "/home/arshehremen/miniconda3/envs/dev/lib/python3.11/site-packages/huggingface_hub/file_download.py:1132: FutureWarning: `resume_download` is deprecated and will be removed in version 1.0.0. Downloads always resume when possible. If you want to force a new download, use `force_download=True`.\n",
      "  warnings.warn(\n",
      "Some weights of BertForSequenceClassification were not initialized from the model checkpoint at DeepPavlov/rubert-base-cased and are newly initialized: ['classifier.bias', 'classifier.weight']\n",
      "You should probably TRAIN this model on a down-stream task to be able to use it for predictions and inference.\n"
     ]
    }
   ],
   "source": [
    "#bert_name = 'bert-base-uncased'\n",
    "#bert_name = 'imvladikon/charbert-bert-wiki'\n",
    "bert_name = 'DeepPavlov/rubert-base-cased'\n",
    "tokenizer = BertTokenizer.from_pretrained(bert_name)\n",
    "model = BertForSequenceClassification.from_pretrained(bert_name, num_labels=2).to(device)"
   ]
  },
  {
   "cell_type": "code",
   "execution_count": 12,
   "id": "aa716076-a53d-4616-84d3-5ad40ae8bee3",
   "metadata": {},
   "outputs": [],
   "source": [
    "def tokenize_function(examples):\n",
    "    return tokenizer(examples, #[\"text\"], \n",
    "            padding='max_length', \n",
    "            max_length = 512, \n",
    "            truncation=True) #,\n",
    "            #return_tensors=\"pt\"\n",
    "    #return tokenizer(examples[\"text\"], padding=\"max_length\", truncation=True)\n",
    "\n",
    "\n",
    "train_df['input_ids'] = train_df['text'].apply(tokenize_function)"
   ]
  },
  {
   "cell_type": "code",
   "execution_count": 13,
   "id": "aa739898-8b5d-4a44-b433-0ce637247dc3",
   "metadata": {},
   "outputs": [],
   "source": [
    "def split_dataframe(dataframe, proc):\n",
    "    ids_shu = list(dataframe['line_id'])\n",
    "    random.shuffle(ids_shu)\n",
    "    test  = ids_shu[:proc]\n",
    "    train_df = dataframe[~dataframe['line_id'].isin(test)]\n",
    "    test_df = dataframe[dataframe['line_id'].isin(test)]\n",
    "    return train_df, test_df\n",
    "\n",
    "posdf = train_df[train_df['is_hallucination'] == 1]\n",
    "negdf = train_df[train_df['is_hallucination'] == 0]\n",
    "\n",
    "train_pos, test_pos = split_dataframe(posdf, 100)\n",
    "train_neg, test_neg = split_dataframe(negdf, 100)\n",
    "#train_df[train_df['is_hallucination'] == 1]"
   ]
  },
  {
   "cell_type": "code",
   "execution_count": 14,
   "id": "e510232c-08a5-4071-84cc-ec4dd74c4f75",
   "metadata": {},
   "outputs": [
    {
     "data": {
      "text/plain": [
       "(432, 100, 418, 100)"
      ]
     },
     "execution_count": 14,
     "metadata": {},
     "output_type": "execute_result"
    }
   ],
   "source": [
    "len(train_pos),len(test_pos),len(train_neg),len(test_neg)"
   ]
  },
  {
   "cell_type": "code",
   "execution_count": 15,
   "id": "6a413952-ff85-4f6a-9e5e-44f26b547975",
   "metadata": {
    "ExecuteTime": {
     "end_time": "2024-05-17T15:53:38.091237Z",
     "start_time": "2024-05-17T15:53:38.061261Z"
    }
   },
   "outputs": [],
   "source": [
    "if False:\n",
    "    train_dataset = Dataset.from_pandas( pd.concat([train_pos, train_neg]).sample(frac=1) [['text', 'is_hallucination']] ) \n",
    "    val_dataset   = Dataset.from_pandas( pd.concat([test_pos, test_neg]).sample(frac=1) [['text', 'is_hallucination']] ) \n",
    "    train_dataset = train_dataset.rename_column(\"is_hallucination\", \"labels\")\n",
    "    val_dataset   = val_dataset.rename_column(\"is_hallucination\", \"labels\")\n",
    "    \n",
    "    if False:\n",
    "        train_dataset = Dataset.from_pandas(train_df[['text', 'is_hallucination']])\n",
    "        train_dataset = train_dataset.rename_column(\"is_hallucination\", \"labels\")\n",
    "        \n",
    "        train_test_split = train_dataset.train_test_split(test_size=0.2)\n",
    "        train_dataset = train_test_split['train']\n",
    "        val_dataset = train_test_split['test']"
   ]
  },
  {
   "cell_type": "code",
   "execution_count": null,
   "id": "40d60f98-4f36-4575-b278-372590eebb5d",
   "metadata": {},
   "outputs": [],
   "source": []
  },
  {
   "cell_type": "code",
   "execution_count": null,
   "id": "81b1a14ef2fd8602",
   "metadata": {
    "ExecuteTime": {
     "end_time": "2024-05-17T15:53:39.195739Z",
     "start_time": "2024-05-17T15:53:38.091975Z"
    }
   },
   "outputs": [],
   "source": []
  },
  {
   "cell_type": "code",
   "execution_count": 16,
   "id": "f6f9e959-07f8-497f-a4a5-acd2377d40c4",
   "metadata": {},
   "outputs": [],
   "source": [
    "class ClassHall(torch.nn.Module):\n",
    "    def __init__(self, hidden_size, output_size, activationfunc):\n",
    "        super().__init__()\n",
    "        self.BERTencoder = transformers.BertModel.from_pretrained(bert_name).to(device)\n",
    "        #self.linear1 = torch.nn.Linear(768, hidden_size)\n",
    "        #self.act1 = activationfunc()\n",
    "        #self.linear2 = torch.nn.Linear(hidden_size, output_size)\n",
    "\n",
    "        self.linear2 = torch.nn.Linear(768, output_size)\n",
    "        \n",
    "        self.act2 = torch.nn.Softmax(dim = 1) # activationfunc()\n",
    "        \n",
    "    def forward(self, input_ids , attention_mask):\n",
    "        #print(x)\n",
    "        #batches, x2, target, view = x\n",
    "        #h = self.BERTencoder( x, return_dict=False)[1]# self.BERTencoder(x)\n",
    "\n",
    "        h = self.BERTencoder (input_ids=input_ids,\n",
    "                              attention_mask=attention_mask,\n",
    "                              return_dict=False)[1]\n",
    "        \n",
    "        #h = self.linear1(h)\n",
    "        #h = self.act1(h)\n",
    "        h = self.linear2(h)\n",
    "        h = self.act2(h)\n",
    "        return h"
   ]
  },
  {
   "cell_type": "code",
   "execution_count": 17,
   "id": "38d4e5ab-92c4-4a8c-a4fd-4c9348efba00",
   "metadata": {},
   "outputs": [
    {
     "name": "stderr",
     "output_type": "stream",
     "text": [
      "/home/arshehremen/miniconda3/envs/dev/lib/python3.11/site-packages/huggingface_hub/file_download.py:1132: FutureWarning: `resume_download` is deprecated and will be removed in version 1.0.0. Downloads always resume when possible. If you want to force a new download, use `force_download=True`.\n",
      "  warnings.warn(\n",
      "Some weights of the model checkpoint at DeepPavlov/rubert-base-cased were not used when initializing BertModel: ['cls.seq_relationship.weight', 'cls.predictions.transform.LayerNorm.bias', 'cls.predictions.transform.dense.weight', 'cls.predictions.transform.dense.bias', 'cls.predictions.decoder.weight', 'cls.seq_relationship.bias', 'cls.predictions.bias', 'cls.predictions.decoder.bias', 'cls.predictions.transform.LayerNorm.weight']\n",
      "- This IS expected if you are initializing BertModel from the checkpoint of a model trained on another task or with another architecture (e.g. initializing a BertForSequenceClassification model from a BertForPreTraining model).\n",
      "- This IS NOT expected if you are initializing BertModel from the checkpoint of a model that you expect to be exactly identical (initializing a BertForSequenceClassification model from a BertForSequenceClassification model).\n"
     ]
    }
   ],
   "source": [
    "model = ClassHall(256, 2, torch.nn.Tanh)"
   ]
  },
  {
   "cell_type": "code",
   "execution_count": 18,
   "id": "f650ad9d-f801-4788-b448-adc42e4c3668",
   "metadata": {},
   "outputs": [],
   "source": [
    "getlr = 2e-5\n",
    "weight_decay=0.01\n",
    "criterion   = torch.nn.CrossEntropyLoss()\n",
    "model = model.to(device)\n",
    "optimizer   = torch.optim.AdamW(model.parameters(), lr= getlr) "
   ]
  },
  {
   "cell_type": "code",
   "execution_count": 19,
   "id": "ceac3708-330a-4bb2-94ba-b0e662c0a90e",
   "metadata": {},
   "outputs": [],
   "source": [
    "# len(train_pos),len(test_pos),len(train_neg),len(test_neg)\n",
    "\n",
    "neg_value = [-1.0, 0.0][1] #"
   ]
  },
  {
   "cell_type": "code",
   "execution_count": 21,
   "id": "a054a4bc-73ce-4f36-8c04-f314b3e37330",
   "metadata": {},
   "outputs": [
    {
     "name": "stderr",
     "output_type": "stream",
     "text": [
      "100%|█████████████████████████████████████████████████████████████████████████████████| 432/432 [00:27<00:00, 15.48it/s]\n",
      "100%|█████████████████████████████████████████████████████████████████████████████████| 432/432 [00:28<00:00, 15.38it/s]\n",
      "100%|█████████████████████████████████████████████████████████████████████████████████| 432/432 [00:28<00:00, 15.33it/s]\n"
     ]
    }
   ],
   "source": [
    "max_len = max(len(train_pos), len(train_neg))\n",
    "batch_size = 1\n",
    "\n",
    "it_pos = list(train_pos['input_ids'])\n",
    "it_neg = list(train_neg['input_ids'])\n",
    "model.train()\n",
    "epochs = 3\n",
    "for epoch in range(epochs):\n",
    "    for i in tqdm(range(max_len// batch_size)):\n",
    "        groupetensor = []\n",
    "        groupetarget = []\n",
    "        groupatt = []\n",
    "        for it in range(batch_size):\n",
    "            iterid = i*batch_size + it\n",
    "            pos_ids = it_pos [ iterid % len(it_pos) ] ['input_ids']\n",
    "            neg_ids = it_neg [ iterid % len(it_neg) ] ['input_ids']\n",
    "            pos_att = it_pos [ iterid % len(it_pos) ] ['attention_mask']\n",
    "            neg_att = it_neg [ iterid % len(it_neg) ] ['attention_mask']\n",
    "            \n",
    "            groupetensor+=[ pos_ids, neg_ids ]\n",
    "            groupetarget+=[ [neg_value,1.0],[1.0,neg_value]   ]\n",
    "            groupatt    +=[ pos_att, neg_att ]\n",
    "        #auggroups = [made_aug(onegroup)  for onegroup in  groupetensor]\n",
    "        #groupetensor = groupetensor + auggroups\n",
    "        #line_tensor = torch.cat([torch.cat(onegroup).reshape([1,*torch.cat(onegroup).shape ]) for onegroup in groupetensor]).to(device)\n",
    "        #fit_target  = torch.cat([torch.cat(onegroup).reshape([1,*torch.cat(onegroup).shape ]) for onegroup in groupetarget]).to(device)\n",
    "        line_tensor = torch.tensor(groupetensor).to(device) # torch.cat([onegroup for onegroup in groupetensor]).to(device)\n",
    "        attention = torch.tensor(groupatt).to(device)\n",
    "        fit_target =  torch.tensor(groupetarget).to(device) #torch.cat([onegroup.reshape([1,*onegroup.shape ]) for onegroup in groupetarget]).float().to(device)\n",
    "        output = model(line_tensor, attention ) #[:, -1, :]\n",
    "        loss = criterion(output, fit_target)\n",
    "        optimizer.zero_grad()\n",
    "        loss.backward()\n",
    "        optimizer.step()\n",
    "    "
   ]
  },
  {
   "cell_type": "code",
   "execution_count": 22,
   "id": "9e889b29-feca-4dec-91a6-658f34609e0a",
   "metadata": {},
   "outputs": [
    {
     "data": {
      "text/plain": [
       "0.8603351955307262"
      ]
     },
     "execution_count": 22,
     "metadata": {},
     "output_type": "execute_result"
    }
   ],
   "source": [
    "# len(train_pos),len(test_pos),len(train_neg),len(test_neg)\n",
    "it_pos = list(test_pos['input_ids'])\n",
    "it_neg = list(test_neg['input_ids'])\n",
    "\n",
    "model.eval()\n",
    "\n",
    "tp = 0\n",
    "fn = 0\n",
    "for pos_ids in it_pos:\n",
    "    line_tensor = torch.tensor(pos_ids['input_ids'])\n",
    "    line_tensor = line_tensor.reshape(1, *line_tensor.shape ).to(device)\n",
    "    \n",
    "    attention = torch.tensor(pos_ids['attention_mask'])\n",
    "    attention = attention.reshape(1, *attention.shape ).to(device)\n",
    "    output = model(line_tensor, attention)\n",
    "    right_now = (output.argmax(dim = 1).detach().cpu() == torch.tensor([[neg_value,1.0]]).argmax(dim=1)).item()\n",
    "    tp += right_now\n",
    "    fn += 1-right_now\n",
    "\n",
    "tn = 0\n",
    "fp = 0\n",
    "for neg_ids in it_neg:\n",
    "    line_tensor = torch.tensor(neg_ids['input_ids'])\n",
    "    line_tensor = line_tensor.reshape(1, *line_tensor.shape ).to(device)\n",
    "    attention = torch.tensor(neg_ids['attention_mask'])\n",
    "    attention = attention.reshape(1, *attention.shape ).to(device)\n",
    "    output = model(line_tensor,attention)\n",
    "    right_now = (output.argmax(dim = 1).detach().cpu() == torch.tensor([[1.0,neg_value]]).argmax(dim=1)).item()\n",
    "    tn += right_now\n",
    "    fp += 1-right_now\n",
    "\n",
    "rec = tp/(tp+fn)\n",
    "pre = tp/(tp+fp)\n",
    "f1 = 2*(pre*rec)/(pre+rec)\n",
    "f1"
   ]
  },
  {
   "cell_type": "code",
   "execution_count": 21,
   "id": "941008b3-10e4-439b-947e-90cc66552e88",
   "metadata": {},
   "outputs": [
    {
     "data": {
      "text/plain": [
       "0.850828729281768"
      ]
     },
     "execution_count": 21,
     "metadata": {},
     "output_type": "execute_result"
    }
   ],
   "source": []
  },
  {
   "cell_type": "code",
   "execution_count": 23,
   "id": "0eaf7ce6-86ec-44a7-b151-8879f89b0831",
   "metadata": {},
   "outputs": [
    {
     "data": {
      "text/plain": [
       "(77, 23, 98, 2)"
      ]
     },
     "execution_count": 23,
     "metadata": {},
     "output_type": "execute_result"
    }
   ],
   "source": [
    "tp,fn,tn,fp"
   ]
  },
  {
   "cell_type": "code",
   "execution_count": 28,
   "id": "f57b044a-647d-445c-b722-ba22b547dc60",
   "metadata": {},
   "outputs": [],
   "source": [
    "#torch.save(model.state_dict(), '0.76f1.pt')"
   ]
  },
  {
   "cell_type": "code",
   "execution_count": null,
   "id": "e89c16cf-f496-44c5-bac2-4e755565aa5e",
   "metadata": {},
   "outputs": [],
   "source": []
  },
  {
   "cell_type": "code",
   "execution_count": null,
   "id": "fea5bb1c-338f-46c1-ae92-f8e5f2927cda",
   "metadata": {},
   "outputs": [],
   "source": [
    "# TUNE"
   ]
  },
  {
   "cell_type": "code",
   "execution_count": 20,
   "id": "1f2c01f0-7071-40c6-80bc-c381fdc69308",
   "metadata": {},
   "outputs": [
    {
     "name": "stderr",
     "output_type": "stream",
     "text": [
      "100%|█████████████████████████████████████████████████████████████████████████████████| 432/432 [00:27<00:00, 15.45it/s]\n"
     ]
    },
    {
     "name": "stdout",
     "output_type": "stream",
     "text": [
      "epoch 0 f1= 0.8469387755102041 tp/fn/tn/fp 83 17 87 13\n"
     ]
    },
    {
     "name": "stderr",
     "output_type": "stream",
     "text": [
      "100%|█████████████████████████████████████████████████████████████████████████████████| 432/432 [00:28<00:00, 15.38it/s]\n"
     ]
    },
    {
     "name": "stdout",
     "output_type": "stream",
     "text": [
      "epoch 1 f1= 0.8555555555555556 tp/fn/tn/fp 77 23 97 3\n"
     ]
    },
    {
     "name": "stderr",
     "output_type": "stream",
     "text": [
      "100%|█████████████████████████████████████████████████████████████████████████████████| 432/432 [00:28<00:00, 15.17it/s]\n"
     ]
    },
    {
     "name": "stdout",
     "output_type": "stream",
     "text": [
      "epoch 2 f1= 0.6666666666666666 tp/fn/tn/fp 100 0 0 100\n"
     ]
    },
    {
     "name": "stderr",
     "output_type": "stream",
     "text": [
      "100%|█████████████████████████████████████████████████████████████████████████████████| 432/432 [00:28<00:00, 15.34it/s]\n"
     ]
    },
    {
     "name": "stdout",
     "output_type": "stream",
     "text": [
      "epoch 3 f1= 0.8681318681318682 tp/fn/tn/fp 79 21 97 3\n"
     ]
    },
    {
     "name": "stderr",
     "output_type": "stream",
     "text": [
      "100%|█████████████████████████████████████████████████████████████████████████████████| 432/432 [00:28<00:00, 15.19it/s]\n"
     ]
    },
    {
     "name": "stdout",
     "output_type": "stream",
     "text": [
      "epoch 4 f1= 0.6996466431095406 tp/fn/tn/fp 99 1 16 84\n"
     ]
    },
    {
     "name": "stderr",
     "output_type": "stream",
     "text": [
      "100%|█████████████████████████████████████████████████████████████████████████████████| 432/432 [00:28<00:00, 15.32it/s]\n"
     ]
    },
    {
     "name": "stdout",
     "output_type": "stream",
     "text": [
      "epoch 5 f1= 0.7626459143968872 tp/fn/tn/fp 98 2 41 59\n"
     ]
    },
    {
     "name": "stderr",
     "output_type": "stream",
     "text": [
      "100%|█████████████████████████████████████████████████████████████████████████████████| 432/432 [00:28<00:00, 15.29it/s]\n"
     ]
    },
    {
     "name": "stdout",
     "output_type": "stream",
     "text": [
      "epoch 6 f1= 0.8911917098445595 tp/fn/tn/fp 86 14 93 7\n"
     ]
    },
    {
     "name": "stderr",
     "output_type": "stream",
     "text": [
      "100%|█████████████████████████████████████████████████████████████████████████████████| 432/432 [00:28<00:00, 15.18it/s]\n"
     ]
    },
    {
     "name": "stdout",
     "output_type": "stream",
     "text": [
      "epoch 7 f1= 0 tp/fn/tn/fp 0 100 100 0\n"
     ]
    },
    {
     "name": "stderr",
     "output_type": "stream",
     "text": [
      "100%|█████████████████████████████████████████████████████████████████████████████████| 432/432 [00:28<00:00, 15.30it/s]\n"
     ]
    },
    {
     "name": "stdout",
     "output_type": "stream",
     "text": [
      "epoch 8 f1= 0.8820512820512821 tp/fn/tn/fp 86 14 91 9\n"
     ]
    },
    {
     "name": "stderr",
     "output_type": "stream",
     "text": [
      "100%|█████████████████████████████████████████████████████████████████████████████████| 432/432 [00:28<00:00, 15.29it/s]\n"
     ]
    },
    {
     "name": "stdout",
     "output_type": "stream",
     "text": [
      "epoch 9 f1= 0.8677248677248677 tp/fn/tn/fp 82 18 93 7\n"
     ]
    },
    {
     "name": "stderr",
     "output_type": "stream",
     "text": [
      "100%|█████████████████████████████████████████████████████████████████████████████████| 432/432 [00:28<00:00, 15.28it/s]\n"
     ]
    },
    {
     "name": "stdout",
     "output_type": "stream",
     "text": [
      "epoch 10 f1= 0.877005347593583 tp/fn/tn/fp 82 18 95 5\n"
     ]
    },
    {
     "name": "stderr",
     "output_type": "stream",
     "text": [
      "100%|█████████████████████████████████████████████████████████████████████████████████| 432/432 [00:28<00:00, 15.28it/s]\n"
     ]
    },
    {
     "name": "stdout",
     "output_type": "stream",
     "text": [
      "epoch 11 f1= 0.8709677419354839 tp/fn/tn/fp 81 19 95 5\n"
     ]
    },
    {
     "name": "stderr",
     "output_type": "stream",
     "text": [
      "100%|█████████████████████████████████████████████████████████████████████████████████| 432/432 [00:28<00:00, 15.28it/s]\n"
     ]
    },
    {
     "name": "stdout",
     "output_type": "stream",
     "text": [
      "epoch 12 f1= 0.8817204301075269 tp/fn/tn/fp 82 18 96 4\n"
     ]
    },
    {
     "name": "stderr",
     "output_type": "stream",
     "text": [
      "100%|█████████████████████████████████████████████████████████████████████████████████| 432/432 [00:28<00:00, 15.27it/s]\n"
     ]
    },
    {
     "name": "stdout",
     "output_type": "stream",
     "text": [
      "epoch 13 f1= 0.8762886597938143 tp/fn/tn/fp 85 15 91 9\n"
     ]
    },
    {
     "name": "stderr",
     "output_type": "stream",
     "text": [
      "100%|█████████████████████████████████████████████████████████████████████████████████| 432/432 [00:28<00:00, 15.27it/s]\n"
     ]
    },
    {
     "name": "stdout",
     "output_type": "stream",
     "text": [
      "epoch 14 f1= 0.8704663212435233 tp/fn/tn/fp 84 16 91 9\n"
     ]
    },
    {
     "name": "stderr",
     "output_type": "stream",
     "text": [
      "100%|█████████████████████████████████████████████████████████████████████████████████| 432/432 [00:28<00:00, 15.27it/s]\n"
     ]
    },
    {
     "name": "stdout",
     "output_type": "stream",
     "text": [
      "epoch 15 f1= 0.8854166666666666 tp/fn/tn/fp 85 15 93 7\n"
     ]
    },
    {
     "name": "stderr",
     "output_type": "stream",
     "text": [
      "100%|█████████████████████████████████████████████████████████████████████████████████| 432/432 [00:28<00:00, 15.25it/s]\n"
     ]
    },
    {
     "name": "stdout",
     "output_type": "stream",
     "text": [
      "epoch 16 f1= 0.8631578947368421 tp/fn/tn/fp 82 18 92 8\n"
     ]
    },
    {
     "name": "stderr",
     "output_type": "stream",
     "text": [
      "100%|█████████████████████████████████████████████████████████████████████████████████| 432/432 [00:28<00:00, 15.25it/s]\n"
     ]
    },
    {
     "name": "stdout",
     "output_type": "stream",
     "text": [
      "epoch 17 f1= 0.9072164948453608 tp/fn/tn/fp 88 12 94 6\n"
     ]
    },
    {
     "name": "stderr",
     "output_type": "stream",
     "text": [
      "100%|█████████████████████████████████████████████████████████████████████████████████| 432/432 [00:28<00:00, 15.25it/s]\n"
     ]
    },
    {
     "name": "stdout",
     "output_type": "stream",
     "text": [
      "epoch 18 f1= 0.8681318681318682 tp/fn/tn/fp 79 21 97 3\n"
     ]
    },
    {
     "name": "stderr",
     "output_type": "stream",
     "text": [
      "100%|█████████████████████████████████████████████████████████████████████████████████| 432/432 [00:28<00:00, 15.28it/s]\n"
     ]
    },
    {
     "name": "stdout",
     "output_type": "stream",
     "text": [
      "epoch 19 f1= 0.8681318681318682 tp/fn/tn/fp 79 21 97 3\n"
     ]
    },
    {
     "name": "stderr",
     "output_type": "stream",
     "text": [
      "100%|█████████████████████████████████████████████████████████████████████████████████| 432/432 [00:28<00:00, 15.26it/s]\n"
     ]
    },
    {
     "name": "stdout",
     "output_type": "stream",
     "text": [
      "epoch 20 f1= 0.8780487804878048 tp/fn/tn/fp 90 10 85 15\n"
     ]
    },
    {
     "name": "stderr",
     "output_type": "stream",
     "text": [
      "100%|█████████████████████████████████████████████████████████████████████████████████| 432/432 [00:28<00:00, 15.28it/s]\n"
     ]
    },
    {
     "name": "stdout",
     "output_type": "stream",
     "text": [
      "epoch 21 f1= 0.8844221105527638 tp/fn/tn/fp 88 12 89 11\n"
     ]
    },
    {
     "name": "stderr",
     "output_type": "stream",
     "text": [
      "100%|█████████████████████████████████████████████████████████████████████████████████| 432/432 [00:28<00:00, 15.28it/s]\n"
     ]
    },
    {
     "name": "stdout",
     "output_type": "stream",
     "text": [
      "epoch 22 f1= 0.8979591836734694 tp/fn/tn/fp 88 12 92 8\n"
     ]
    },
    {
     "name": "stderr",
     "output_type": "stream",
     "text": [
      "100%|█████████████████████████████████████████████████████████████████████████████████| 432/432 [00:28<00:00, 15.30it/s]\n"
     ]
    },
    {
     "name": "stdout",
     "output_type": "stream",
     "text": [
      "epoch 23 f1= 0.8979591836734694 tp/fn/tn/fp 88 12 92 8\n"
     ]
    },
    {
     "name": "stderr",
     "output_type": "stream",
     "text": [
      "100%|█████████████████████████████████████████████████████████████████████████████████| 432/432 [00:28<00:00, 15.27it/s]\n"
     ]
    },
    {
     "name": "stdout",
     "output_type": "stream",
     "text": [
      "epoch 24 f1= 0.8979591836734694 tp/fn/tn/fp 88 12 92 8\n"
     ]
    },
    {
     "name": "stderr",
     "output_type": "stream",
     "text": [
      "100%|█████████████████████████████████████████████████████████████████████████████████| 432/432 [00:28<00:00, 15.28it/s]\n"
     ]
    },
    {
     "name": "stdout",
     "output_type": "stream",
     "text": [
      "epoch 25 f1= 0.8979591836734694 tp/fn/tn/fp 88 12 92 8\n"
     ]
    },
    {
     "name": "stderr",
     "output_type": "stream",
     "text": [
      "100%|█████████████████████████████████████████████████████████████████████████████████| 432/432 [00:28<00:00, 15.27it/s]\n"
     ]
    },
    {
     "name": "stdout",
     "output_type": "stream",
     "text": [
      "epoch 26 f1= 0.058252427184466014 tp/fn/tn/fp 3 97 100 0\n"
     ]
    },
    {
     "name": "stderr",
     "output_type": "stream",
     "text": [
      "100%|█████████████████████████████████████████████████████████████████████████████████| 432/432 [00:28<00:00, 15.27it/s]\n"
     ]
    },
    {
     "name": "stdout",
     "output_type": "stream",
     "text": [
      "epoch 27 f1= 0.14814814814814814 tp/fn/tn/fp 8 92 100 0\n"
     ]
    },
    {
     "name": "stderr",
     "output_type": "stream",
     "text": [
      "100%|█████████████████████████████████████████████████████████████████████████████████| 432/432 [00:28<00:00, 15.27it/s]\n"
     ]
    },
    {
     "name": "stdout",
     "output_type": "stream",
     "text": [
      "epoch 28 f1= 0.8341232227488151 tp/fn/tn/fp 88 12 77 23\n"
     ]
    },
    {
     "name": "stderr",
     "output_type": "stream",
     "text": [
      "100%|█████████████████████████████████████████████████████████████████████████████████| 432/432 [00:28<00:00, 15.28it/s]\n"
     ]
    },
    {
     "name": "stdout",
     "output_type": "stream",
     "text": [
      "epoch 29 f1= 0.8253968253968254 tp/fn/tn/fp 78 22 89 11\n"
     ]
    },
    {
     "name": "stderr",
     "output_type": "stream",
     "text": [
      "100%|█████████████████████████████████████████████████████████████████████████████████| 432/432 [00:28<00:00, 15.28it/s]\n"
     ]
    },
    {
     "name": "stdout",
     "output_type": "stream",
     "text": [
      "epoch 30 f1= 0.8844221105527638 tp/fn/tn/fp 88 12 89 11\n"
     ]
    },
    {
     "name": "stderr",
     "output_type": "stream",
     "text": [
      "100%|█████████████████████████████████████████████████████████████████████████████████| 432/432 [00:28<00:00, 15.28it/s]\n"
     ]
    },
    {
     "name": "stdout",
     "output_type": "stream",
     "text": [
      "epoch 31 f1= 0.5673758865248227 tp/fn/tn/fp 40 60 99 1\n"
     ]
    },
    {
     "name": "stderr",
     "output_type": "stream",
     "text": [
      "100%|█████████████████████████████████████████████████████████████████████████████████| 432/432 [00:28<00:00, 15.28it/s]\n"
     ]
    },
    {
     "name": "stdout",
     "output_type": "stream",
     "text": [
      "epoch 32 f1= 0.6666666666666666 tp/fn/tn/fp 100 0 0 100\n"
     ]
    },
    {
     "name": "stderr",
     "output_type": "stream",
     "text": [
      "100%|█████████████████████████████████████████████████████████████████████████████████| 432/432 [00:28<00:00, 15.25it/s]\n"
     ]
    },
    {
     "name": "stdout",
     "output_type": "stream",
     "text": [
      "epoch 33 f1= 0.679245283018868 tp/fn/tn/fp 54 46 95 5\n"
     ]
    },
    {
     "name": "stderr",
     "output_type": "stream",
     "text": [
      "100%|█████████████████████████████████████████████████████████████████████████████████| 432/432 [00:28<00:00, 15.28it/s]\n"
     ]
    },
    {
     "name": "stdout",
     "output_type": "stream",
     "text": [
      "epoch 34 f1= 0.8333333333333334 tp/fn/tn/fp 75 25 95 5\n"
     ]
    },
    {
     "name": "stderr",
     "output_type": "stream",
     "text": [
      "100%|█████████████████████████████████████████████████████████████████████████████████| 432/432 [00:28<00:00, 15.25it/s]\n"
     ]
    },
    {
     "name": "stdout",
     "output_type": "stream",
     "text": [
      "epoch 35 f1= 0.8623853211009174 tp/fn/tn/fp 94 6 76 24\n"
     ]
    },
    {
     "name": "stderr",
     "output_type": "stream",
     "text": [
      "100%|█████████████████████████████████████████████████████████████████████████████████| 432/432 [00:28<00:00, 15.27it/s]\n"
     ]
    },
    {
     "name": "stdout",
     "output_type": "stream",
     "text": [
      "epoch 36 f1= 0 tp/fn/tn/fp 0 100 100 0\n"
     ]
    },
    {
     "name": "stderr",
     "output_type": "stream",
     "text": [
      "100%|█████████████████████████████████████████████████████████████████████████████████| 432/432 [00:28<00:00, 15.25it/s]\n"
     ]
    },
    {
     "name": "stdout",
     "output_type": "stream",
     "text": [
      "epoch 37 f1= 0.019417475728155338 tp/fn/tn/fp 1 99 98 2\n"
     ]
    },
    {
     "name": "stderr",
     "output_type": "stream",
     "text": [
      "100%|█████████████████████████████████████████████████████████████████████████████████| 432/432 [00:28<00:00, 15.28it/s]\n"
     ]
    },
    {
     "name": "stdout",
     "output_type": "stream",
     "text": [
      "epoch 38 f1= 0.6348122866894198 tp/fn/tn/fp 93 7 0 100\n"
     ]
    },
    {
     "name": "stderr",
     "output_type": "stream",
     "text": [
      "100%|█████████████████████████████████████████████████████████████████████████████████| 432/432 [00:28<00:00, 15.30it/s]\n"
     ]
    },
    {
     "name": "stdout",
     "output_type": "stream",
     "text": [
      "epoch 39 f1= 0.019417475728155338 tp/fn/tn/fp 1 99 98 2\n"
     ]
    },
    {
     "name": "stderr",
     "output_type": "stream",
     "text": [
      "100%|█████████████████████████████████████████████████████████████████████████████████| 432/432 [00:28<00:00, 15.25it/s]\n"
     ]
    },
    {
     "name": "stdout",
     "output_type": "stream",
     "text": [
      "epoch 40 f1= 0.019417475728155338 tp/fn/tn/fp 1 99 98 2\n"
     ]
    },
    {
     "name": "stderr",
     "output_type": "stream",
     "text": [
      " 29%|███████████████████████▎                                                         | 124/432 [00:08<00:20, 15.23it/s]IOPub message rate exceeded.\n",
      "The Jupyter server will temporarily stop sending output\n",
      "to the client in order to avoid crashing it.\n",
      "To change this limit, set the config variable\n",
      "`--ServerApp.iopub_msg_rate_limit`.\n",
      "\n",
      "Current values:\n",
      "ServerApp.iopub_msg_rate_limit=1000.0 (msgs/sec)\n",
      "ServerApp.rate_limit_window=3.0 (secs)\n",
      "\n"
     ]
    }
   ],
   "source": [
    "epochs = 100\n",
    "maxf1 = 0\n",
    "\n",
    "for epoch in range(epochs):\n",
    "    max_len = max(len(train_pos), len(train_neg))\n",
    "    batch_size = 1\n",
    "\n",
    "    it_pos = list(train_pos['input_ids'])\n",
    "    it_neg = list(train_neg['input_ids'])\n",
    "    model.train()\n",
    "    \n",
    "    for i in tqdm(range(max_len// batch_size)):\n",
    "        groupetensor = []\n",
    "        groupetarget = []\n",
    "        groupatt = []\n",
    "        for it in range(batch_size):\n",
    "            iterid = i*batch_size + it\n",
    "            pos_ids = it_pos [ iterid % len(it_pos) ] ['input_ids']\n",
    "            neg_ids = it_neg [ iterid % len(it_neg) ] ['input_ids']\n",
    "            pos_att = it_pos [ iterid % len(it_pos) ] ['attention_mask']\n",
    "            neg_att = it_neg [ iterid % len(it_neg) ] ['attention_mask']\n",
    "            \n",
    "            groupetensor+=[ pos_ids, neg_ids ]\n",
    "            groupetarget+=[ [neg_value,1.0],[1.0,neg_value]   ]\n",
    "            groupatt    +=[ pos_att, neg_att ]\n",
    "        line_tensor = torch.tensor(groupetensor).to(device)\n",
    "        attention = torch.tensor(groupatt).to(device)\n",
    "        fit_target =  torch.tensor(groupetarget).to(device)\n",
    "        optimizer.zero_grad()\n",
    "        output = model(line_tensor, attention )\n",
    "        loss = criterion(output, fit_target)\n",
    "        loss.backward()\n",
    "        optimizer.step()\n",
    "    \n",
    "\n",
    "\n",
    "    \n",
    "    it_pos = list(test_pos['input_ids'])\n",
    "    it_neg = list(test_neg['input_ids'])\n",
    "    \n",
    "    model.eval()\n",
    "    \n",
    "    tp = 0\n",
    "    fn = 0\n",
    "    for pos_ids in it_pos:\n",
    "        line_tensor = torch.tensor(pos_ids['input_ids'])\n",
    "        line_tensor = line_tensor.reshape(1, *line_tensor.shape ).to(device)\n",
    "        \n",
    "        attention = torch.tensor(pos_ids['attention_mask'])\n",
    "        attention = attention.reshape(1, *attention.shape ).to(device)\n",
    "        output = model(line_tensor, attention)\n",
    "        right_now = (output.argmax(dim = 1).detach().cpu() == torch.tensor([[neg_value,1.0]]).argmax(dim=1)).item()\n",
    "        tp += right_now\n",
    "        fn += 1-right_now\n",
    "    \n",
    "    tn = 0\n",
    "    fp = 0\n",
    "    for neg_ids in it_neg:\n",
    "        line_tensor = torch.tensor(neg_ids['input_ids'])\n",
    "        line_tensor = line_tensor.reshape(1, *line_tensor.shape ).to(device)\n",
    "        attention = torch.tensor(neg_ids['attention_mask'])\n",
    "        attention = attention.reshape(1, *attention.shape ).to(device)\n",
    "        output = model(line_tensor,attention)\n",
    "        right_now = (output.argmax(dim = 1).detach().cpu() == torch.tensor([[1.0,neg_value]]).argmax(dim=1)).item()\n",
    "        tn += right_now\n",
    "        fp += 1-right_now\n",
    "\n",
    "    if tp == 0:\n",
    "        f1 = 0\n",
    "    else:\n",
    "        rec = tp/(tp+fn)\n",
    "        pre = tp/(tp+fp)\n",
    "        f1 = 2*(pre*rec)/(pre+rec)\n",
    "    print('epoch', epoch, 'f1=', f1, 'tp/fn/tn/fp', tp,fn,tn,fp)\n",
    "    if f1>maxf1:\n",
    "        maxf1 = f1\n",
    "        torch.save(model.state_dict(), 'top_1sep.pt')"
   ]
  },
  {
   "cell_type": "code",
   "execution_count": 20,
   "id": "1ad15ed1-ced3-44dc-9c34-32056406dbd1",
   "metadata": {},
   "outputs": [
    {
     "name": "stderr",
     "output_type": "stream",
     "text": [
      "100%|█████████████████████████████████████████████████████████████████████████████████| 432/432 [00:27<00:00, 15.44it/s]\n"
     ]
    },
    {
     "name": "stdout",
     "output_type": "stream",
     "text": [
      "epoch 0 f1= 0.8465608465608465 tp/fn/tn/fp 80 20 91 9\n"
     ]
    },
    {
     "name": "stderr",
     "output_type": "stream",
     "text": [
      "100%|█████████████████████████████████████████████████████████████████████████████████| 432/432 [00:28<00:00, 15.34it/s]\n"
     ]
    },
    {
     "name": "stdout",
     "output_type": "stream",
     "text": [
      "epoch 1 f1= 0.6666666666666666 tp/fn/tn/fp 100 0 0 100\n"
     ]
    },
    {
     "name": "stderr",
     "output_type": "stream",
     "text": [
      "100%|█████████████████████████████████████████████████████████████████████████████████| 432/432 [00:28<00:00, 15.35it/s]\n"
     ]
    },
    {
     "name": "stdout",
     "output_type": "stream",
     "text": [
      "epoch 2 f1= 0.8603351955307262 tp/fn/tn/fp 77 23 98 2\n"
     ]
    },
    {
     "name": "stderr",
     "output_type": "stream",
     "text": [
      "100%|█████████████████████████████████████████████████████████████████████████████████| 432/432 [00:28<00:00, 15.19it/s]\n"
     ]
    },
    {
     "name": "stdout",
     "output_type": "stream",
     "text": [
      "epoch 3 f1= 0.8601036269430051 tp/fn/tn/fp 83 17 90 10\n"
     ]
    },
    {
     "name": "stderr",
     "output_type": "stream",
     "text": [
      "100%|█████████████████████████████████████████████████████████████████████████████████| 432/432 [00:28<00:00, 15.33it/s]\n"
     ]
    },
    {
     "name": "stdout",
     "output_type": "stream",
     "text": [
      "epoch 4 f1= 0.8555555555555556 tp/fn/tn/fp 77 23 97 3\n"
     ]
    },
    {
     "name": "stderr",
     "output_type": "stream",
     "text": [
      "100%|█████████████████████████████████████████████████████████████████████████████████| 432/432 [00:28<00:00, 15.30it/s]\n"
     ]
    },
    {
     "name": "stdout",
     "output_type": "stream",
     "text": [
      "epoch 5 f1= 0.8461538461538461 tp/fn/tn/fp 77 23 95 5\n"
     ]
    },
    {
     "name": "stderr",
     "output_type": "stream",
     "text": [
      "100%|█████████████████████████████████████████████████████████████████████████████████| 432/432 [00:28<00:00, 15.29it/s]\n"
     ]
    },
    {
     "name": "stdout",
     "output_type": "stream",
     "text": [
      "epoch 6 f1= 0.8540540540540541 tp/fn/tn/fp 79 21 94 6\n"
     ]
    },
    {
     "name": "stderr",
     "output_type": "stream",
     "text": [
      "100%|█████████████████████████████████████████████████████████████████████████████████| 432/432 [00:28<00:00, 15.29it/s]\n"
     ]
    },
    {
     "name": "stdout",
     "output_type": "stream",
     "text": [
      "epoch 7 f1= 0.7843137254901961 tp/fn/tn/fp 80 20 76 24\n"
     ]
    },
    {
     "name": "stderr",
     "output_type": "stream",
     "text": [
      "100%|█████████████████████████████████████████████████████████████████████████████████| 432/432 [00:28<00:00, 15.28it/s]\n"
     ]
    },
    {
     "name": "stdout",
     "output_type": "stream",
     "text": [
      "epoch 8 f1= 0.26277372262773724 tp/fn/tn/fp 18 82 81 19\n"
     ]
    },
    {
     "name": "stderr",
     "output_type": "stream",
     "text": [
      "100%|█████████████████████████████████████████████████████████████████████████████████| 432/432 [00:28<00:00, 15.28it/s]\n"
     ]
    },
    {
     "name": "stdout",
     "output_type": "stream",
     "text": [
      "epoch 9 f1= 0.6666666666666666 tp/fn/tn/fp 100 0 0 100\n"
     ]
    },
    {
     "name": "stderr",
     "output_type": "stream",
     "text": [
      "100%|█████████████████████████████████████████████████████████████████████████████████| 432/432 [00:28<00:00, 15.28it/s]\n"
     ]
    },
    {
     "name": "stdout",
     "output_type": "stream",
     "text": [
      "epoch 10 f1= 0 tp/fn/tn/fp 0 100 100 0\n"
     ]
    },
    {
     "name": "stderr",
     "output_type": "stream",
     "text": [
      "100%|█████████████████████████████████████████████████████████████████████████████████| 432/432 [00:28<00:00, 15.28it/s]\n"
     ]
    },
    {
     "name": "stdout",
     "output_type": "stream",
     "text": [
      "epoch 11 f1= 0.7319148936170213 tp/fn/tn/fp 86 14 51 49\n"
     ]
    },
    {
     "name": "stderr",
     "output_type": "stream",
     "text": [
      "100%|█████████████████████████████████████████████████████████████████████████████████| 432/432 [00:28<00:00, 15.27it/s]\n"
     ]
    },
    {
     "name": "stdout",
     "output_type": "stream",
     "text": [
      "epoch 12 f1= 0.8127853881278538 tp/fn/tn/fp 89 11 70 30\n"
     ]
    },
    {
     "name": "stderr",
     "output_type": "stream",
     "text": [
      "100%|█████████████████████████████████████████████████████████████████████████████████| 432/432 [00:28<00:00, 15.27it/s]\n"
     ]
    },
    {
     "name": "stdout",
     "output_type": "stream",
     "text": [
      "epoch 13 f1= 0.7218934911242603 tp/fn/tn/fp 61 39 92 8\n"
     ]
    },
    {
     "name": "stderr",
     "output_type": "stream",
     "text": [
      "100%|█████████████████████████████████████████████████████████████████████████████████| 432/432 [00:28<00:00, 15.24it/s]\n"
     ]
    },
    {
     "name": "stdout",
     "output_type": "stream",
     "text": [
      "epoch 14 f1= 0.7391304347826089 tp/fn/tn/fp 68 32 84 16\n"
     ]
    },
    {
     "name": "stderr",
     "output_type": "stream",
     "text": [
      "100%|█████████████████████████████████████████████████████████████████████████████████| 432/432 [00:28<00:00, 15.28it/s]\n"
     ]
    },
    {
     "name": "stdout",
     "output_type": "stream",
     "text": [
      "epoch 15 f1= 0.46268656716417916 tp/fn/tn/fp 31 69 97 3\n"
     ]
    },
    {
     "name": "stderr",
     "output_type": "stream",
     "text": [
      "100%|█████████████████████████████████████████████████████████████████████████████████| 432/432 [00:28<00:00, 15.27it/s]\n"
     ]
    },
    {
     "name": "stdout",
     "output_type": "stream",
     "text": [
      "epoch 16 f1= 0.6666666666666666 tp/fn/tn/fp 100 0 0 100\n"
     ]
    },
    {
     "name": "stderr",
     "output_type": "stream",
     "text": [
      "100%|█████████████████████████████████████████████████████████████████████████████████| 432/432 [00:28<00:00, 15.27it/s]\n"
     ]
    },
    {
     "name": "stdout",
     "output_type": "stream",
     "text": [
      "epoch 17 f1= 0 tp/fn/tn/fp 0 100 100 0\n"
     ]
    },
    {
     "name": "stderr",
     "output_type": "stream",
     "text": [
      "100%|█████████████████████████████████████████████████████████████████████████████████| 432/432 [00:28<00:00, 15.28it/s]\n"
     ]
    },
    {
     "name": "stdout",
     "output_type": "stream",
     "text": [
      "epoch 18 f1= 0.6829268292682927 tp/fn/tn/fp 84 16 38 62\n"
     ]
    },
    {
     "name": "stderr",
     "output_type": "stream",
     "text": [
      "100%|█████████████████████████████████████████████████████████████████████████████████| 432/432 [00:28<00:00, 15.27it/s]\n"
     ]
    },
    {
     "name": "stdout",
     "output_type": "stream",
     "text": [
      "epoch 19 f1= 0.7058823529411764 tp/fn/tn/fp 78 22 57 43\n"
     ]
    },
    {
     "name": "stderr",
     "output_type": "stream",
     "text": [
      "100%|█████████████████████████████████████████████████████████████████████████████████| 432/432 [00:28<00:00, 15.27it/s]\n"
     ]
    },
    {
     "name": "stdout",
     "output_type": "stream",
     "text": [
      "epoch 20 f1= 0.6666666666666666 tp/fn/tn/fp 100 0 0 100\n"
     ]
    },
    {
     "name": "stderr",
     "output_type": "stream",
     "text": [
      "100%|█████████████████████████████████████████████████████████████████████████████████| 432/432 [00:28<00:00, 15.30it/s]\n"
     ]
    },
    {
     "name": "stdout",
     "output_type": "stream",
     "text": [
      "epoch 21 f1= 0 tp/fn/tn/fp 0 100 100 0\n"
     ]
    },
    {
     "name": "stderr",
     "output_type": "stream",
     "text": [
      "100%|█████████████████████████████████████████████████████████████████████████████████| 432/432 [00:28<00:00, 15.25it/s]\n"
     ]
    },
    {
     "name": "stdout",
     "output_type": "stream",
     "text": [
      "epoch 22 f1= 0 tp/fn/tn/fp 0 100 100 0\n"
     ]
    },
    {
     "name": "stderr",
     "output_type": "stream",
     "text": [
      "100%|█████████████████████████████████████████████████████████████████████████████████| 432/432 [00:28<00:00, 15.28it/s]\n"
     ]
    },
    {
     "name": "stdout",
     "output_type": "stream",
     "text": [
      "epoch 23 f1= 0.717557251908397 tp/fn/tn/fp 94 6 32 68\n"
     ]
    },
    {
     "name": "stderr",
     "output_type": "stream",
     "text": [
      "100%|█████████████████████████████████████████████████████████████████████████████████| 432/432 [00:28<00:00, 15.27it/s]\n"
     ]
    },
    {
     "name": "stdout",
     "output_type": "stream",
     "text": [
      "epoch 24 f1= 0.8258706467661692 tp/fn/tn/fp 83 17 82 18\n"
     ]
    },
    {
     "name": "stderr",
     "output_type": "stream",
     "text": [
      "100%|█████████████████████████████████████████████████████████████████████████████████| 432/432 [00:28<00:00, 15.28it/s]\n"
     ]
    },
    {
     "name": "stdout",
     "output_type": "stream",
     "text": [
      "epoch 25 f1= 0.7965367965367965 tp/fn/tn/fp 92 8 61 39\n"
     ]
    },
    {
     "name": "stderr",
     "output_type": "stream",
     "text": [
      "100%|█████████████████████████████████████████████████████████████████████████████████| 432/432 [00:28<00:00, 15.27it/s]\n"
     ]
    },
    {
     "name": "stdout",
     "output_type": "stream",
     "text": [
      "epoch 26 f1= 0.78 tp/fn/tn/fp 78 22 78 22\n"
     ]
    },
    {
     "name": "stderr",
     "output_type": "stream",
     "text": [
      "100%|█████████████████████████████████████████████████████████████████████████████████| 432/432 [00:28<00:00, 15.27it/s]\n"
     ]
    },
    {
     "name": "stdout",
     "output_type": "stream",
     "text": [
      "epoch 27 f1= 0.6666666666666666 tp/fn/tn/fp 100 0 0 100\n"
     ]
    },
    {
     "name": "stderr",
     "output_type": "stream",
     "text": [
      "100%|█████████████████████████████████████████████████████████████████████████████████| 432/432 [00:28<00:00, 15.28it/s]\n"
     ]
    },
    {
     "name": "stdout",
     "output_type": "stream",
     "text": [
      "epoch 28 f1= 0.806122448979592 tp/fn/tn/fp 79 21 83 17\n"
     ]
    },
    {
     "name": "stderr",
     "output_type": "stream",
     "text": [
      "100%|█████████████████████████████████████████████████████████████████████████████████| 432/432 [00:28<00:00, 15.28it/s]\n"
     ]
    },
    {
     "name": "stdout",
     "output_type": "stream",
     "text": [
      "epoch 29 f1= 0.6666666666666666 tp/fn/tn/fp 100 0 0 100\n"
     ]
    },
    {
     "name": "stderr",
     "output_type": "stream",
     "text": [
      "100%|█████████████████████████████████████████████████████████████████████████████████| 432/432 [00:28<00:00, 15.28it/s]\n"
     ]
    },
    {
     "name": "stdout",
     "output_type": "stream",
     "text": [
      "epoch 30 f1= 0.6666666666666666 tp/fn/tn/fp 100 0 0 100\n"
     ]
    },
    {
     "name": "stderr",
     "output_type": "stream",
     "text": [
      "100%|█████████████████████████████████████████████████████████████████████████████████| 432/432 [00:28<00:00, 15.25it/s]\n"
     ]
    },
    {
     "name": "stdout",
     "output_type": "stream",
     "text": [
      "epoch 31 f1= 0 tp/fn/tn/fp 0 100 100 0\n"
     ]
    },
    {
     "name": "stderr",
     "output_type": "stream",
     "text": [
      "100%|█████████████████████████████████████████████████████████████████████████████████| 432/432 [00:28<00:00, 15.28it/s]\n"
     ]
    },
    {
     "name": "stdout",
     "output_type": "stream",
     "text": [
      "epoch 32 f1= 0.7027027027027026 tp/fn/tn/fp 91 9 32 68\n"
     ]
    },
    {
     "name": "stderr",
     "output_type": "stream",
     "text": [
      "100%|█████████████████████████████████████████████████████████████████████████████████| 432/432 [00:28<00:00, 15.28it/s]\n"
     ]
    },
    {
     "name": "stdout",
     "output_type": "stream",
     "text": [
      "epoch 33 f1= 0 tp/fn/tn/fp 0 100 100 0\n"
     ]
    },
    {
     "name": "stderr",
     "output_type": "stream",
     "text": [
      "100%|█████████████████████████████████████████████████████████████████████████████████| 432/432 [00:28<00:00, 15.28it/s]\n"
     ]
    },
    {
     "name": "stdout",
     "output_type": "stream",
     "text": [
      "epoch 34 f1= 0.6666666666666666 tp/fn/tn/fp 100 0 0 100\n"
     ]
    },
    {
     "name": "stderr",
     "output_type": "stream",
     "text": [
      "100%|█████████████████████████████████████████████████████████████████████████████████| 432/432 [00:28<00:00, 15.30it/s]\n"
     ]
    },
    {
     "name": "stdout",
     "output_type": "stream",
     "text": [
      "epoch 35 f1= 0.6666666666666666 tp/fn/tn/fp 100 0 0 100\n"
     ]
    },
    {
     "name": "stderr",
     "output_type": "stream",
     "text": [
      "100%|█████████████████████████████████████████████████████████████████████████████████| 432/432 [00:28<00:00, 15.28it/s]\n"
     ]
    },
    {
     "name": "stdout",
     "output_type": "stream",
     "text": [
      "epoch 36 f1= 0.6666666666666666 tp/fn/tn/fp 100 0 0 100\n"
     ]
    },
    {
     "name": "stderr",
     "output_type": "stream",
     "text": [
      "100%|█████████████████████████████████████████████████████████████████████████████████| 432/432 [00:28<00:00, 15.28it/s]\n"
     ]
    },
    {
     "name": "stdout",
     "output_type": "stream",
     "text": [
      "epoch 37 f1= 0.6666666666666666 tp/fn/tn/fp 100 0 0 100\n"
     ]
    },
    {
     "name": "stderr",
     "output_type": "stream",
     "text": [
      "100%|█████████████████████████████████████████████████████████████████████████████████| 432/432 [00:28<00:00, 15.28it/s]\n"
     ]
    },
    {
     "name": "stdout",
     "output_type": "stream",
     "text": [
      "epoch 38 f1= 0.6666666666666666 tp/fn/tn/fp 100 0 0 100\n"
     ]
    },
    {
     "name": "stderr",
     "output_type": "stream",
     "text": [
      "100%|█████████████████████████████████████████████████████████████████████████████████| 432/432 [00:28<00:00, 15.28it/s]\n"
     ]
    },
    {
     "name": "stdout",
     "output_type": "stream",
     "text": [
      "epoch 39 f1= 0.6666666666666666 tp/fn/tn/fp 100 0 0 100\n"
     ]
    },
    {
     "name": "stderr",
     "output_type": "stream",
     "text": [
      "100%|█████████████████████████████████████████████████████████████████████████████████| 432/432 [00:28<00:00, 15.28it/s]\n"
     ]
    },
    {
     "name": "stdout",
     "output_type": "stream",
     "text": [
      "epoch 40 f1= 0.6666666666666666 tp/fn/tn/fp 100 0 0 100\n"
     ]
    },
    {
     "name": "stderr",
     "output_type": "stream",
     "text": [
      "100%|█████████████████████████████████████████████████████████████████████████████████| 432/432 [00:28<00:00, 15.28it/s]\n"
     ]
    },
    {
     "name": "stdout",
     "output_type": "stream",
     "text": [
      "epoch 41 f1= 0.6666666666666666 tp/fn/tn/fp 100 0 0 100\n"
     ]
    },
    {
     "name": "stderr",
     "output_type": "stream",
     "text": [
      "100%|█████████████████████████████████████████████████████████████████████████████████| 432/432 [00:28<00:00, 15.28it/s]\n"
     ]
    },
    {
     "name": "stdout",
     "output_type": "stream",
     "text": [
      "epoch 42 f1= 0.6666666666666666 tp/fn/tn/fp 100 0 0 100\n"
     ]
    },
    {
     "name": "stderr",
     "output_type": "stream",
     "text": [
      "100%|█████████████████████████████████████████████████████████████████████████████████| 432/432 [00:28<00:00, 15.28it/s]\n"
     ]
    },
    {
     "name": "stdout",
     "output_type": "stream",
     "text": [
      "epoch 43 f1= 0.6666666666666666 tp/fn/tn/fp 100 0 0 100\n"
     ]
    },
    {
     "name": "stderr",
     "output_type": "stream",
     "text": [
      "100%|█████████████████████████████████████████████████████████████████████████████████| 432/432 [00:28<00:00, 15.28it/s]\n"
     ]
    },
    {
     "name": "stdout",
     "output_type": "stream",
     "text": [
      "epoch 44 f1= 0.6689419795221844 tp/fn/tn/fp 98 2 5 95\n"
     ]
    },
    {
     "name": "stderr",
     "output_type": "stream",
     "text": [
      "100%|█████████████████████████████████████████████████████████████████████████████████| 432/432 [00:28<00:00, 15.28it/s]\n"
     ]
    },
    {
     "name": "stdout",
     "output_type": "stream",
     "text": [
      "epoch 45 f1= 0.6666666666666666 tp/fn/tn/fp 100 0 0 100\n"
     ]
    },
    {
     "name": "stderr",
     "output_type": "stream",
     "text": [
      "100%|█████████████████████████████████████████████████████████████████████████████████| 432/432 [00:28<00:00, 15.28it/s]\n"
     ]
    },
    {
     "name": "stdout",
     "output_type": "stream",
     "text": [
      "epoch 46 f1= 0.6666666666666666 tp/fn/tn/fp 100 0 0 100\n"
     ]
    },
    {
     "name": "stderr",
     "output_type": "stream",
     "text": [
      "100%|█████████████████████████████████████████████████████████████████████████████████| 432/432 [00:28<00:00, 15.28it/s]\n"
     ]
    },
    {
     "name": "stdout",
     "output_type": "stream",
     "text": [
      "epoch 47 f1= 0.3472222222222222 tp/fn/tn/fp 25 75 81 19\n"
     ]
    },
    {
     "name": "stderr",
     "output_type": "stream",
     "text": [
      "100%|█████████████████████████████████████████████████████████████████████████████████| 432/432 [00:28<00:00, 15.28it/s]\n"
     ]
    },
    {
     "name": "stdout",
     "output_type": "stream",
     "text": [
      "epoch 48 f1= 0.34965034965034963 tp/fn/tn/fp 25 75 82 18\n"
     ]
    },
    {
     "name": "stderr",
     "output_type": "stream",
     "text": [
      "100%|█████████████████████████████████████████████████████████████████████████████████| 432/432 [00:28<00:00, 15.28it/s]\n"
     ]
    },
    {
     "name": "stdout",
     "output_type": "stream",
     "text": [
      "epoch 49 f1= 0.05769230769230769 tp/fn/tn/fp 3 97 99 1\n"
     ]
    },
    {
     "name": "stderr",
     "output_type": "stream",
     "text": [
      "100%|█████████████████████████████████████████████████████████████████████████████████| 432/432 [00:28<00:00, 15.28it/s]\n"
     ]
    },
    {
     "name": "stdout",
     "output_type": "stream",
     "text": [
      "epoch 50 f1= 0 tp/fn/tn/fp 0 100 100 0\n"
     ]
    },
    {
     "name": "stderr",
     "output_type": "stream",
     "text": [
      "100%|█████████████████████████████████████████████████████████████████████████████████| 432/432 [00:28<00:00, 15.28it/s]\n"
     ]
    },
    {
     "name": "stdout",
     "output_type": "stream",
     "text": [
      "epoch 51 f1= 0.6666666666666666 tp/fn/tn/fp 100 0 0 100\n"
     ]
    },
    {
     "name": "stderr",
     "output_type": "stream",
     "text": [
      "100%|█████████████████████████████████████████████████████████████████████████████████| 432/432 [00:28<00:00, 15.28it/s]\n"
     ]
    },
    {
     "name": "stdout",
     "output_type": "stream",
     "text": [
      "epoch 52 f1= 0.6666666666666666 tp/fn/tn/fp 100 0 0 100\n"
     ]
    },
    {
     "name": "stderr",
     "output_type": "stream",
     "text": [
      "100%|█████████████████████████████████████████████████████████████████████████████████| 432/432 [00:28<00:00, 15.28it/s]\n"
     ]
    },
    {
     "name": "stdout",
     "output_type": "stream",
     "text": [
      "epoch 53 f1= 0.6666666666666666 tp/fn/tn/fp 100 0 0 100\n"
     ]
    },
    {
     "name": "stderr",
     "output_type": "stream",
     "text": [
      "100%|█████████████████████████████████████████████████████████████████████████████████| 432/432 [00:28<00:00, 15.28it/s]\n"
     ]
    },
    {
     "name": "stdout",
     "output_type": "stream",
     "text": [
      "epoch 54 f1= 0.6666666666666666 tp/fn/tn/fp 100 0 0 100\n"
     ]
    },
    {
     "name": "stderr",
     "output_type": "stream",
     "text": [
      "100%|█████████████████████████████████████████████████████████████████████████████████| 432/432 [00:28<00:00, 15.28it/s]\n"
     ]
    },
    {
     "name": "stdout",
     "output_type": "stream",
     "text": [
      "epoch 55 f1= 0.6666666666666666 tp/fn/tn/fp 100 0 0 100\n"
     ]
    },
    {
     "name": "stderr",
     "output_type": "stream",
     "text": [
      "100%|█████████████████████████████████████████████████████████████████████████████████| 432/432 [00:28<00:00, 15.28it/s]\n"
     ]
    },
    {
     "name": "stdout",
     "output_type": "stream",
     "text": [
      "epoch 56 f1= 0.6666666666666666 tp/fn/tn/fp 100 0 0 100\n"
     ]
    },
    {
     "name": "stderr",
     "output_type": "stream",
     "text": [
      "100%|█████████████████████████████████████████████████████████████████████████████████| 432/432 [00:28<00:00, 15.28it/s]\n"
     ]
    },
    {
     "name": "stdout",
     "output_type": "stream",
     "text": [
      "epoch 57 f1= 0.6666666666666666 tp/fn/tn/fp 100 0 0 100\n"
     ]
    },
    {
     "name": "stderr",
     "output_type": "stream",
     "text": [
      "100%|█████████████████████████████████████████████████████████████████████████████████| 432/432 [00:28<00:00, 15.28it/s]\n"
     ]
    },
    {
     "name": "stdout",
     "output_type": "stream",
     "text": [
      "epoch 58 f1= 0.6666666666666666 tp/fn/tn/fp 100 0 0 100\n"
     ]
    },
    {
     "name": "stderr",
     "output_type": "stream",
     "text": [
      "100%|█████████████████████████████████████████████████████████████████████████████████| 432/432 [00:28<00:00, 15.28it/s]\n"
     ]
    },
    {
     "name": "stdout",
     "output_type": "stream",
     "text": [
      "epoch 59 f1= 0.6666666666666666 tp/fn/tn/fp 100 0 0 100\n"
     ]
    },
    {
     "name": "stderr",
     "output_type": "stream",
     "text": [
      "100%|█████████████████████████████████████████████████████████████████████████████████| 432/432 [00:28<00:00, 15.28it/s]\n"
     ]
    },
    {
     "name": "stdout",
     "output_type": "stream",
     "text": [
      "epoch 60 f1= 0.6666666666666666 tp/fn/tn/fp 100 0 0 100\n"
     ]
    },
    {
     "name": "stderr",
     "output_type": "stream",
     "text": [
      "100%|█████████████████████████████████████████████████████████████████████████████████| 432/432 [00:28<00:00, 15.28it/s]\n"
     ]
    },
    {
     "name": "stdout",
     "output_type": "stream",
     "text": [
      "epoch 61 f1= 0.6666666666666666 tp/fn/tn/fp 100 0 0 100\n"
     ]
    },
    {
     "name": "stderr",
     "output_type": "stream",
     "text": [
      "100%|█████████████████████████████████████████████████████████████████████████████████| 432/432 [00:28<00:00, 15.28it/s]\n"
     ]
    },
    {
     "name": "stdout",
     "output_type": "stream",
     "text": [
      "epoch 62 f1= 0.6666666666666666 tp/fn/tn/fp 100 0 0 100\n"
     ]
    },
    {
     "name": "stderr",
     "output_type": "stream",
     "text": [
      "100%|█████████████████████████████████████████████████████████████████████████████████| 432/432 [00:28<00:00, 15.28it/s]\n"
     ]
    },
    {
     "name": "stdout",
     "output_type": "stream",
     "text": [
      "epoch 63 f1= 0.6666666666666666 tp/fn/tn/fp 100 0 0 100\n"
     ]
    },
    {
     "name": "stderr",
     "output_type": "stream",
     "text": [
      "100%|█████████████████████████████████████████████████████████████████████████████████| 432/432 [00:28<00:00, 15.28it/s]\n"
     ]
    },
    {
     "name": "stdout",
     "output_type": "stream",
     "text": [
      "epoch 64 f1= 0.6666666666666666 tp/fn/tn/fp 100 0 0 100\n"
     ]
    },
    {
     "name": "stderr",
     "output_type": "stream",
     "text": [
      "100%|█████████████████████████████████████████████████████████████████████████████████| 432/432 [00:28<00:00, 15.28it/s]\n"
     ]
    },
    {
     "name": "stdout",
     "output_type": "stream",
     "text": [
      "epoch 65 f1= 0.6666666666666666 tp/fn/tn/fp 100 0 0 100\n"
     ]
    },
    {
     "name": "stderr",
     "output_type": "stream",
     "text": [
      "100%|█████████████████████████████████████████████████████████████████████████████████| 432/432 [00:28<00:00, 15.28it/s]\n"
     ]
    },
    {
     "name": "stdout",
     "output_type": "stream",
     "text": [
      "epoch 66 f1= 0.6666666666666666 tp/fn/tn/fp 100 0 0 100\n"
     ]
    },
    {
     "name": "stderr",
     "output_type": "stream",
     "text": [
      "100%|█████████████████████████████████████████████████████████████████████████████████| 432/432 [00:28<00:00, 15.28it/s]\n"
     ]
    },
    {
     "name": "stdout",
     "output_type": "stream",
     "text": [
      "epoch 67 f1= 0.6666666666666666 tp/fn/tn/fp 100 0 0 100\n"
     ]
    },
    {
     "name": "stderr",
     "output_type": "stream",
     "text": [
      "100%|█████████████████████████████████████████████████████████████████████████████████| 432/432 [00:28<00:00, 15.28it/s]\n"
     ]
    },
    {
     "name": "stdout",
     "output_type": "stream",
     "text": [
      "epoch 68 f1= 0.6666666666666666 tp/fn/tn/fp 100 0 0 100\n"
     ]
    },
    {
     "name": "stderr",
     "output_type": "stream",
     "text": [
      "100%|█████████████████████████████████████████████████████████████████████████████████| 432/432 [00:28<00:00, 15.28it/s]\n"
     ]
    },
    {
     "name": "stdout",
     "output_type": "stream",
     "text": [
      "epoch 69 f1= 0.6666666666666666 tp/fn/tn/fp 100 0 0 100\n"
     ]
    },
    {
     "name": "stderr",
     "output_type": "stream",
     "text": [
      "100%|█████████████████████████████████████████████████████████████████████████████████| 432/432 [00:28<00:00, 15.28it/s]\n"
     ]
    },
    {
     "name": "stdout",
     "output_type": "stream",
     "text": [
      "epoch 70 f1= 0.6666666666666666 tp/fn/tn/fp 100 0 0 100\n"
     ]
    },
    {
     "name": "stderr",
     "output_type": "stream",
     "text": [
      "100%|█████████████████████████████████████████████████████████████████████████████████| 432/432 [00:28<00:00, 15.28it/s]\n"
     ]
    },
    {
     "name": "stdout",
     "output_type": "stream",
     "text": [
      "epoch 71 f1= 0.6666666666666666 tp/fn/tn/fp 100 0 0 100\n"
     ]
    },
    {
     "name": "stderr",
     "output_type": "stream",
     "text": [
      "100%|█████████████████████████████████████████████████████████████████████████████████| 432/432 [00:28<00:00, 15.28it/s]\n"
     ]
    },
    {
     "name": "stdout",
     "output_type": "stream",
     "text": [
      "epoch 72 f1= 0.6666666666666666 tp/fn/tn/fp 100 0 0 100\n"
     ]
    },
    {
     "name": "stderr",
     "output_type": "stream",
     "text": [
      "100%|█████████████████████████████████████████████████████████████████████████████████| 432/432 [00:28<00:00, 15.28it/s]\n"
     ]
    },
    {
     "name": "stdout",
     "output_type": "stream",
     "text": [
      "epoch 73 f1= 0.6666666666666666 tp/fn/tn/fp 100 0 0 100\n"
     ]
    },
    {
     "name": "stderr",
     "output_type": "stream",
     "text": [
      "100%|█████████████████████████████████████████████████████████████████████████████████| 432/432 [00:28<00:00, 15.28it/s]\n"
     ]
    },
    {
     "name": "stdout",
     "output_type": "stream",
     "text": [
      "epoch 74 f1= 0.6666666666666666 tp/fn/tn/fp 100 0 0 100\n"
     ]
    },
    {
     "name": "stderr",
     "output_type": "stream",
     "text": [
      "100%|█████████████████████████████████████████████████████████████████████████████████| 432/432 [00:28<00:00, 15.28it/s]\n"
     ]
    },
    {
     "name": "stdout",
     "output_type": "stream",
     "text": [
      "epoch 75 f1= 0.6666666666666666 tp/fn/tn/fp 100 0 0 100\n"
     ]
    },
    {
     "name": "stderr",
     "output_type": "stream",
     "text": [
      "100%|█████████████████████████████████████████████████████████████████████████████████| 432/432 [00:28<00:00, 15.28it/s]\n"
     ]
    },
    {
     "name": "stdout",
     "output_type": "stream",
     "text": [
      "epoch 76 f1= 0.6666666666666666 tp/fn/tn/fp 100 0 0 100\n"
     ]
    },
    {
     "name": "stderr",
     "output_type": "stream",
     "text": [
      "100%|█████████████████████████████████████████████████████████████████████████████████| 432/432 [00:28<00:00, 15.28it/s]\n"
     ]
    },
    {
     "name": "stdout",
     "output_type": "stream",
     "text": [
      "epoch 77 f1= 0 tp/fn/tn/fp 0 100 100 0\n"
     ]
    },
    {
     "name": "stderr",
     "output_type": "stream",
     "text": [
      "100%|█████████████████████████████████████████████████████████████████████████████████| 432/432 [00:28<00:00, 15.28it/s]\n"
     ]
    },
    {
     "name": "stdout",
     "output_type": "stream",
     "text": [
      "epoch 78 f1= 0.6666666666666666 tp/fn/tn/fp 100 0 0 100\n"
     ]
    },
    {
     "name": "stderr",
     "output_type": "stream",
     "text": [
      "100%|█████████████████████████████████████████████████████████████████████████████████| 432/432 [00:28<00:00, 15.28it/s]\n"
     ]
    },
    {
     "name": "stdout",
     "output_type": "stream",
     "text": [
      "epoch 79 f1= 0.6666666666666666 tp/fn/tn/fp 100 0 0 100\n"
     ]
    },
    {
     "name": "stderr",
     "output_type": "stream",
     "text": [
      "100%|█████████████████████████████████████████████████████████████████████████████████| 432/432 [00:28<00:00, 15.28it/s]\n"
     ]
    },
    {
     "name": "stdout",
     "output_type": "stream",
     "text": [
      "epoch 80 f1= 0.6666666666666666 tp/fn/tn/fp 100 0 0 100\n"
     ]
    },
    {
     "name": "stderr",
     "output_type": "stream",
     "text": [
      "100%|█████████████████████████████████████████████████████████████████████████████████| 432/432 [00:28<00:00, 15.28it/s]\n"
     ]
    },
    {
     "name": "stdout",
     "output_type": "stream",
     "text": [
      "epoch 81 f1= 0.6666666666666666 tp/fn/tn/fp 100 0 0 100\n"
     ]
    },
    {
     "name": "stderr",
     "output_type": "stream",
     "text": [
      "100%|█████████████████████████████████████████████████████████████████████████████████| 432/432 [00:28<00:00, 15.28it/s]\n"
     ]
    },
    {
     "name": "stdout",
     "output_type": "stream",
     "text": [
      "epoch 82 f1= 0.6666666666666666 tp/fn/tn/fp 100 0 0 100\n"
     ]
    },
    {
     "name": "stderr",
     "output_type": "stream",
     "text": [
      "100%|█████████████████████████████████████████████████████████████████████████████████| 432/432 [00:28<00:00, 15.28it/s]\n"
     ]
    },
    {
     "name": "stdout",
     "output_type": "stream",
     "text": [
      "epoch 83 f1= 0 tp/fn/tn/fp 0 100 100 0\n"
     ]
    },
    {
     "name": "stderr",
     "output_type": "stream",
     "text": [
      "100%|█████████████████████████████████████████████████████████████████████████████████| 432/432 [00:28<00:00, 15.28it/s]\n"
     ]
    },
    {
     "name": "stdout",
     "output_type": "stream",
     "text": [
      "epoch 84 f1= 0 tp/fn/tn/fp 0 100 100 0\n"
     ]
    },
    {
     "name": "stderr",
     "output_type": "stream",
     "text": [
      "100%|█████████████████████████████████████████████████████████████████████████████████| 432/432 [00:28<00:00, 15.28it/s]\n"
     ]
    },
    {
     "name": "stdout",
     "output_type": "stream",
     "text": [
      "epoch 85 f1= 0.6666666666666666 tp/fn/tn/fp 100 0 0 100\n"
     ]
    },
    {
     "name": "stderr",
     "output_type": "stream",
     "text": [
      "100%|█████████████████████████████████████████████████████████████████████████████████| 432/432 [00:28<00:00, 15.28it/s]\n"
     ]
    },
    {
     "name": "stdout",
     "output_type": "stream",
     "text": [
      "epoch 86 f1= 0.6666666666666666 tp/fn/tn/fp 100 0 0 100\n"
     ]
    },
    {
     "name": "stderr",
     "output_type": "stream",
     "text": [
      "100%|█████████████████████████████████████████████████████████████████████████████████| 432/432 [00:28<00:00, 15.28it/s]\n"
     ]
    },
    {
     "name": "stdout",
     "output_type": "stream",
     "text": [
      "epoch 87 f1= 0.6666666666666666 tp/fn/tn/fp 100 0 0 100\n"
     ]
    },
    {
     "name": "stderr",
     "output_type": "stream",
     "text": [
      "100%|█████████████████████████████████████████████████████████████████████████████████| 432/432 [00:28<00:00, 15.28it/s]\n"
     ]
    },
    {
     "name": "stdout",
     "output_type": "stream",
     "text": [
      "epoch 88 f1= 0.6666666666666666 tp/fn/tn/fp 100 0 0 100\n"
     ]
    },
    {
     "name": "stderr",
     "output_type": "stream",
     "text": [
      "100%|█████████████████████████████████████████████████████████████████████████████████| 432/432 [00:28<00:00, 15.28it/s]\n"
     ]
    },
    {
     "name": "stdout",
     "output_type": "stream",
     "text": [
      "epoch 89 f1= 0.6666666666666666 tp/fn/tn/fp 100 0 0 100\n"
     ]
    },
    {
     "name": "stderr",
     "output_type": "stream",
     "text": [
      "100%|█████████████████████████████████████████████████████████████████████████████████| 432/432 [00:28<00:00, 15.28it/s]\n"
     ]
    },
    {
     "name": "stdout",
     "output_type": "stream",
     "text": [
      "epoch 90 f1= 0.6666666666666666 tp/fn/tn/fp 100 0 0 100\n"
     ]
    },
    {
     "name": "stderr",
     "output_type": "stream",
     "text": [
      "100%|█████████████████████████████████████████████████████████████████████████████████| 432/432 [00:28<00:00, 15.28it/s]\n"
     ]
    },
    {
     "name": "stdout",
     "output_type": "stream",
     "text": [
      "epoch 91 f1= 0.6666666666666666 tp/fn/tn/fp 100 0 0 100\n"
     ]
    },
    {
     "name": "stderr",
     "output_type": "stream",
     "text": [
      "100%|█████████████████████████████████████████████████████████████████████████████████| 432/432 [00:28<00:00, 15.28it/s]\n"
     ]
    },
    {
     "name": "stdout",
     "output_type": "stream",
     "text": [
      "epoch 92 f1= 0.6666666666666666 tp/fn/tn/fp 100 0 0 100\n"
     ]
    },
    {
     "name": "stderr",
     "output_type": "stream",
     "text": [
      "100%|█████████████████████████████████████████████████████████████████████████████████| 432/432 [00:28<00:00, 15.28it/s]\n"
     ]
    },
    {
     "name": "stdout",
     "output_type": "stream",
     "text": [
      "epoch 93 f1= 0.6666666666666666 tp/fn/tn/fp 100 0 0 100\n"
     ]
    },
    {
     "name": "stderr",
     "output_type": "stream",
     "text": [
      " 58%|███████████████████████████████████████████████▎                                 | 252/432 [00:16<00:11, 15.25it/s]IOPub message rate exceeded.\n",
      "The Jupyter server will temporarily stop sending output\n",
      "to the client in order to avoid crashing it.\n",
      "To change this limit, set the config variable\n",
      "`--ServerApp.iopub_msg_rate_limit`.\n",
      "\n",
      "Current values:\n",
      "ServerApp.iopub_msg_rate_limit=1000.0 (msgs/sec)\n",
      "ServerApp.rate_limit_window=3.0 (secs)\n",
      "\n"
     ]
    }
   ],
   "source": [
    "# 2 sep"
   ]
  },
  {
   "cell_type": "code",
   "execution_count": null,
   "id": "40d37533-6ff7-471e-8874-ef9b69d05bda",
   "metadata": {},
   "outputs": [],
   "source": []
  }
 ],
 "metadata": {
  "kernelspec": {
   "display_name": "Python 3 (ipykernel)",
   "language": "python",
   "name": "python3"
  },
  "language_info": {
   "codemirror_mode": {
    "name": "ipython",
    "version": 3
   },
   "file_extension": ".py",
   "mimetype": "text/x-python",
   "name": "python",
   "nbconvert_exporter": "python",
   "pygments_lexer": "ipython3",
   "version": "3.11.7"
  }
 },
 "nbformat": 4,
 "nbformat_minor": 5
}
